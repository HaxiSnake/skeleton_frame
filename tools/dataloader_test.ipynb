{
 "cells": [
  {
   "cell_type": "code",
   "execution_count": 6,
   "metadata": {},
   "outputs": [
    {
     "name": "stdout",
     "output_type": "stream",
     "text": [
      "(989, 3, 1500, 18, 1)\n",
      "989\n"
     ]
    }
   ],
   "source": [
    "import os\n",
    "import pickle\n",
    "import numpy as np\n",
    "project_path=\"/home/jiangdong/workspace/st-gcn/\"\n",
    "data_path = os.path.join(project_path,\"output/Skating/train_data.npy\")\n",
    "label_path = os.path.join(project_path,\"output/Skating/train_label.pkl\")\n",
    "with open(label_path,'rb') as f:\n",
    "    sample_names,labels=pickle.load(f)\n",
    "data = np.load(data_path)\n",
    "print(data.shape)\n",
    "print(len(labels))"
   ]
  },
  {
   "cell_type": "code",
   "execution_count": 7,
   "metadata": {},
   "outputs": [
    {
     "name": "stdout",
     "output_type": "stream",
     "text": [
      "3Axel_n28_p01_g01.json 8 (3, 1500, 18, 1)\n"
     ]
    }
   ],
   "source": [
    "index=0\n",
    "data_numpy=np.array(data[index])\n",
    "label=labels[index]\n",
    "sample_name=sample_names[index]\n",
    "print(sample_name,label,data_numpy.shape)"
   ]
  }
 ],
 "metadata": {
  "kernelspec": {
   "display_name": "gcn",
   "language": "python",
   "name": "gcn"
  },
  "language_info": {
   "codemirror_mode": {
    "name": "ipython",
    "version": 3
   },
   "file_extension": ".py",
   "mimetype": "text/x-python",
   "name": "python",
   "nbconvert_exporter": "python",
   "pygments_lexer": "ipython3",
   "version": "3.5.1+"
  }
 },
 "nbformat": 4,
 "nbformat_minor": 2
}
